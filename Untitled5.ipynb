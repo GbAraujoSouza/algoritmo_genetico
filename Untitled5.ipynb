{
  "nbformat": 4,
  "nbformat_minor": 0,
  "metadata": {
    "colab": {
      "name": "Untitled5.ipynb",
      "provenance": [],
      "collapsed_sections": [],
      "authorship_tag": "ABX9TyN02DmfuXLcUmdBfMR33qlL",
      "include_colab_link": true
    },
    "kernelspec": {
      "name": "python3",
      "display_name": "Python 3"
    },
    "language_info": {
      "name": "python"
    }
  },
  "cells": [
    {
      "cell_type": "markdown",
      "metadata": {
        "id": "view-in-github",
        "colab_type": "text"
      },
      "source": [
        "<a href=\"https://colab.research.google.com/github/GbAraujoSouza/algoritmo_genetico/blob/main/Untitled5.ipynb\" target=\"_parent\"><img src=\"https://colab.research.google.com/assets/colab-badge.svg\" alt=\"Open In Colab\"/></a>"
      ]
    },
    {
      "cell_type": "code",
      "source": [
        "import plotly.express as px\n",
        "import numpy as np\n",
        "import matplotlib.pyplot as plt\n",
        "import seaborn as sns\n",
        "%matplotlib inline"
      ],
      "metadata": {
        "id": "2jK3MIKCgTvC"
      },
      "execution_count": null,
      "outputs": []
    },
    {
      "cell_type": "code",
      "source": [
        "#Definir vetor com os dados\n",
        "deslocamento = np.array([0.1, 0.2, 0.4, 0.5, 0.6 ,0.8, 0.9, 1.0])\n",
        "n = np.array([10, 20, 30, 40, 50, 60, 70, 80])\n",
        "incerteza = np.ones(len(deslocamento))*0.1"
      ],
      "metadata": {
        "id": "TJ72VpgbnntN"
      },
      "execution_count": null,
      "outputs": []
    },
    {
      "cell_type": "code",
      "source": [
        "#Plotar grafico com biblioteca plotly\n",
        "fig = px.scatter(x = deslocamento, y = n)\n",
        "fig.show()"
      ],
      "metadata": {
        "id": "lhFZQ6UQoyqJ"
      },
      "execution_count": null,
      "outputs": []
    },
    {
      "cell_type": "code",
      "source": [
        "# plotar gráfico e ajuste com matplotlib\n",
        "# definir objetos\n",
        "fig = plt.figure();\n",
        "ax = fig.add_subplot();\n",
        "\n",
        "# realizar ajuste linear\n",
        "coef = np.polyfit(deslocamento,n,1);\n",
        "poly1d_fn = np.poly1d(coef);\n",
        "\n",
        "#plotar resultados\n",
        "ax.set_ylabel(\"n\");\n",
        "ax.set_xlabel(\"deslocamento\");\n",
        "ax.set_title(\"ajuste linear\");\n",
        "#ax.plot(deslocamento,n, \"bo\");\n",
        "ax.errorbar(deslocamento,n,xerr=incerteza,fmt=\"bo\");\n",
        "ax.plot(deslocamento, poly1d_fn(deslocamento),\"--k\");\n",
        "#ax.errorbar(deslocamento, poly1d_fn(deslocamento), xerr=incerteza);\n",
        "\n",
        "plt.show()\n",
        "\n",
        "print(\"f(x) = ax+b; a = {:.4f}, b = {:.4f}\".format(coef[0],coef[1]));"
      ],
      "metadata": {
        "colab": {
          "base_uri": "https://localhost:8080/"
        },
        "id": "6Gty6nS4rB0c",
        "outputId": "0ab6eee0-f779-40c3-8a17-19c2f95e49e4"
      },
      "execution_count": null,
      "outputs": [
        {
          "output_type": "display_data",
          "data": {
            "text/plain": [
              "<Figure size 432x288 with 1 Axes>"
            ],
            "image/png": "[encoded data removed]"
          },
          "metadata": {
            "needs_background": "light"
          }
        },
        {
          "output_type": "stream",
          "name": "stdout",
          "text": [
            "f(x) = ax+b; a = 75.1269, b = 2.7411\n"
          ]
        }
      ]
    }
  ]
}